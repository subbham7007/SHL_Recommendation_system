{
 "cells": [
  {
   "cell_type": "code",
   "execution_count": null,
   "metadata": {},
   "outputs": [],
   "source": [
    "def recall_at_k(pred, true, k=3):\n",
    "    pred_k = pred[:k]\n",
    "    return len(set(pred_k) & set(true)) / len(true)\n",
    "\n",
    "def average_precision_at_k(pred, true, k=3):\n",
    "    score = 0.0\n",
    "    num_hits = 0\n",
    "    for i, p in enumerate(pred[:k]):\n",
    "        if p in true:\n",
    "            num_hits += 1\n",
    "            score += num_hits / (i + 1)\n",
    "    return score / min(len(true), k)\n",
    "\n",
    "def evaluate_metrics(ground_truth, predictions, k=3):\n",
    "    recalls = []\n",
    "    average_precisions = []\n",
    "\n",
    "    for job_id in ground_truth:\n",
    "        gt = ground_truth[job_id]\n",
    "        pred = predictions[job_id]\n",
    "\n",
    "        recalls.append(recall_at_k(pred, gt, k))\n",
    "        average_precisions.append(average_precision_at_k(pred, gt, k))\n",
    "\n",
    "    mean_recall_at_k = sum(recalls) / len(recalls)\n",
    "    map_at_k = sum(average_precisions) / len(average_precisions)\n",
    "\n",
    "    print(f\"\\n✅ Mean Recall@{k}: {mean_recall_at_k:.2f}\")\n",
    "    print(f\"✅ MAP@{k}: {map_at_k:.2f}\")\n",
    "    return mean_recall_at_k, map_at_k\n",
    "\n",
    "# Example usage\n",
    "if __name__ == \"__main__\":\n",
    "    ground_truth = {\n",
    "        \"job_1\": [\"Numerical Reasoning Test\"],\n",
    "        \"job_2\": [\"Verbal Reasoning Test\"],\n",
    "        \"job_3\": [\"Personality Questionnaire\"],\n",
    "        \"job_4\": [\"Coding Skills Test (Python)\"],\n",
    "        \"job_5\": [\"Sales Aptitude Test\"]\n",
    "    }\n",
    "\n",
    "    predictions = {\n",
    "        \"job_1\": [\"Numerical Reasoning Test\", \"Logical Reasoning Test\", \"Data Interpretation Assessment\"],\n",
    "        \"job_2\": [\"Personality Questionnaire\", \"Verbal Reasoning Test\", \"Situational Judgement Test\"],\n",
    "        \"job_3\": [\"Sales Aptitude Test\", \"Situational Judgement Test\", \"Personality Questionnaire\"],\n",
    "        \"job_4\": [\"Numerical Reasoning Test\", \"Coding Skills Test (Python)\", \"Verbal Reasoning Test\"],\n",
    "        \"job_5\": [\"Customer Service Simulation\", \"Leadership Potential Assessment\", \"Sales Aptitude Test\"]\n",
    "    }\n",
    "\n",
    "    evaluate_metrics(ground_truth, predictions)\n"
   ]
  }
 ],
 "metadata": {
  "language_info": {
   "name": "python"
  }
 },
 "nbformat": 4,
 "nbformat_minor": 2
}
